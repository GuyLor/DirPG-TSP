{
 "cells": [
  {
   "cell_type": "markdown",
   "metadata": {},
   "source": [
    "## Direct Optimization + A* sampling for TSP "
   ]
  },
  {
   "cell_type": "code",
   "execution_count": 1,
   "metadata": {},
   "outputs": [],
   "source": [
    "import os\n",
    "import numpy as np\n",
    "import torch\n",
    "import matplotlib\n",
    "import matplotlib.pyplot as plt\n",
    "import string\n",
    "%matplotlib inline"
   ]
  },
  {
   "cell_type": "code",
   "execution_count": 2,
   "metadata": {},
   "outputs": [],
   "source": [
    "from utils import load_model\n",
    "import dirpg\n",
    "from a_star_sampling import Node, Trajectory\n",
    "\n"
   ]
  },
  {
   "cell_type": "code",
   "execution_count": 3,
   "metadata": {},
   "outputs": [
    {
     "name": "stdout",
     "output_type": "stream",
     "text": [
      "  [*] Loading model from outputs/tsp_8/jupyter_example/DirPG_20200506T134440/epoch-0.pt\n"
     ]
    }
   ],
   "source": [
    "\n",
    "class opts:\n",
    "    def __init__(self,\n",
    "                 max_interactions=200,\n",
    "                 alpha=1.0,\n",
    "                 epsilon=2.0,\n",
    "                 heuristic='mst',\n",
    "                 independent_gumbel=False,\n",
    "                 first_improvement=False,\n",
    "                 dynamic_weighting = False,\n",
    "                 dfs_like=False,\n",
    "                 not_prune=False):        \n",
    "        self.max_interactions = max_interactions\n",
    "        self.first_improvement = first_improvement\n",
    "        self.dynamic_weighting = dynamic_weighting\n",
    "        self.independent_gumbel = independent_gumbel\n",
    "        self.heuristic = heuristic\n",
    "        self.dfs_like = dfs_like\n",
    "        self.not_prune = not_prune\n",
    "        self.alpha=alpha\n",
    "        self.epsilon = epsilon\n",
    "\n",
    "dirpg_opts = opts()\n",
    "num_cities = 8\n",
    "model, _ = load_model('outputs/tsp_{}/jupyter_example/DirPG_20200506T134440/'.format(num_cities), epoch = 0) # 'pretrained/tsp_100/')\n",
    "#model, _ = load_model('outputs/tsp_{}/visuals/DirPG_20200421T162602/'.format(num_cities), epoch = 1)\n",
    "#model, _ = load_model('outputs/tsp_{}/2epochs_ours/DirPG_20200506T004445/'.format(num_cities), epoch = 0)\n",
    "model.eval()  # Put in evaluation mode to not track gradients\n",
    "dirpg = dirpg.DirPG(model, dirpg_opts)"
   ]
  },
  {
   "cell_type": "code",
   "execution_count": 4,
   "metadata": {},
   "outputs": [],
   "source": [
    "import heapq\n",
    "from utils import utils_gumbel\n",
    "import networkx as nx\n",
    "import time\n",
    "\n",
    "class PriorityQueue:\n",
    "    def __init__(self,\n",
    "                 init_state,\n",
    "                 distance_mat,\n",
    "                 epsilon,\n",
    "                 search_params,\n",
    "                 inference=False\n",
    "                 ):\n",
    "        self.queue = []\n",
    "        self.G = nx.Graph()\n",
    "        \n",
    "        Node.epsilon = epsilon\n",
    "        init_state = init_state._replace(first_a=init_state.first_a.squeeze(0),\n",
    "                                         prev_a=init_state.prev_a.squeeze(0),\n",
    "                                         visited_=init_state.visited_.squeeze(0),\n",
    "                                         lengths=init_state.lengths.squeeze(0),\n",
    "                                         cur_coord=init_state.cur_coord.squeeze(0),\n",
    "                                         ids=init_state.ids.squeeze(0),\n",
    "                                         i=init_state.i.squeeze(0))\n",
    "\n",
    "        special_action = init_state.prev_a.item()\n",
    "        not_visited = [i for i in range(init_state.loc.size(1)) if i != special_action]\n",
    "        self.first_coord = init_state.loc[init_state.ids, special_action]\n",
    "        self.graph_size = distance_mat.shape[1]\n",
    "\n",
    "        #           global nodes parameters      #\n",
    "        Node.alpha = search_params['alpha']\n",
    "        Node.epsilon = epsilon\n",
    "        Node.dynamic_weighting = search_params['dynamic_weighting']\n",
    "        Node.heuristic = search_params['heuristic']\n",
    "        Node.graph_size = self.graph_size\n",
    "        Node.dist = distance_mat\n",
    "        \n",
    "        self.root_node = Node(id=init_state.ids,\n",
    "                         first_a=init_state.first_a.item(),\n",
    "                         next_actions=not_visited, # torch.tensor(not_visited),  # number of cities\n",
    "                         not_visited=not_visited,\n",
    "                         prefix=[special_action],\n",
    "                         lengths=0.0,\n",
    "                         cur_coord=self.first_coord,\n",
    "                         max_gumbel=utils_gumbel.sample_gumbel(0),\n",
    "                         t_opt=True)\n",
    "        self.G.add_node(self.root_node)\n",
    "        \n",
    "        heapq.heappush(self.queue, self.root_node)\n",
    "\n",
    "        if search_params['independent_gumbel']:\n",
    "            direct_node = copy.copy(self.root_node)\n",
    "            direct_node.t_opt = False\n",
    "            heapq.heappush(self.queue, direct_node)\n",
    "            \n",
    "        self.current_node = self.root_node\n",
    "        self.id = init_state.ids.item()\n",
    "\n",
    "        self.trajectories_list = []\n",
    "        self.t_opt = None\n",
    "        self.t_direct = None\n",
    "\n",
    "        self.prune_count = 0\n",
    "\n",
    "        self.orig_dist = distance_mat\n",
    "        self.start_search_direct = False\n",
    "        self.start_time = float('Inf')\n",
    "        # self.max_search_time = max_search_time\n",
    "        self.num_interactions = 0\n",
    "        self.first_improvement = search_params['first_improvement']\n",
    "        self.max_interactions = search_params['max_interactions']\n",
    "        self.dfs_like = search_params['dfs_like']\n",
    "        self.p = search_params['prune']\n",
    "        self.dynamic_weighting = search_params['dynamic_weighting']\n",
    "        self.inference = inference\n",
    "        self.prune = False\n",
    "    \n",
    "        self.lower_bound = -float('Inf')\n",
    "        \n",
    "        #######  plotting  #######\n",
    "        #priority-queue:\n",
    "        self.labels = {self.root_node : 'root'}\n",
    "        self.nodes_opt = []\n",
    "        self.other_nodes = []\n",
    "        self.ids = 1\n",
    "        self.direct_node = None\n",
    "        \n",
    "        #prefix:\n",
    "        \n",
    "\n",
    "    def pop(self):\n",
    "\n",
    "        if not self.queue:\n",
    "            print('the queue is empty')\n",
    "            return 'break'\n",
    "\n",
    "        parent = heapq.heappop(self.queue)\n",
    "        self.current_node = parent\n",
    "\n",
    "        if self.num_interactions >= self.max_interactions:\n",
    "            print('interactions budget is over')\n",
    "            return 'break'\n",
    "\n",
    "        if self.prune and self.lower_bound > parent.upper_bound:\n",
    "            self.prune_count += 1\n",
    "            return self.pop()\n",
    "\n",
    "        # Start the search time count\n",
    "        if not parent.t_opt and not self.start_search_direct:\n",
    "            self.start_time = time.time()\n",
    "            self.start_search_direct = True\n",
    "\n",
    "        if parent.done:\n",
    "            return self.set_trajectory(parent)\n",
    "\n",
    "        return parent\n",
    "\n",
    "    def set_trajectory(self, node):\n",
    "\n",
    "        t = Trajectory(actions=node.prefix,\n",
    "                       gumbel=node.max_gumbel,\n",
    "                       length=node.lengths - (self.first_coord - node.cur_coord).norm(p=2, dim=-1),\n",
    "                       objective=node.objective)\n",
    "\n",
    "        self.trajectories_list.append(t)\n",
    "\n",
    "        if node.t_opt:\n",
    "            self.t_opt = t\n",
    "            self.t_direct = t\n",
    "            self.direct_node = node\n",
    "            self.lower_bound = t.objective\n",
    "            if self.inference:                \n",
    "                return 'break'\n",
    "        else:\n",
    "            if t.objective > self.t_direct.objective:\n",
    "                # if len(self.trajectories_list) > 2:\n",
    "                #    print('here: ', len(self.trajectories_list))\n",
    "                self.t_direct = t\n",
    "                self.lower_bound = t.objective\n",
    "                self.direct_node = node\n",
    "                if self.first_improvement:\n",
    "                    #print('*****  priority(direct) > priority(opt)   *****')\n",
    "                    print('first improvement')\n",
    "                    return 'break'\n",
    "\n",
    "        if self.queue:\n",
    "            return self.pop()\n",
    "        else:\n",
    "            # print('break')\n",
    "            print('5')\n",
    "            return 'break'\n",
    "\n",
    "    def expand(self, state, logprobs):\n",
    "\n",
    "        self.num_interactions += 1\n",
    "        special_action = state.prev_a.item()\n",
    "        s = time.time()\n",
    "        not_visited = [i for i in self.current_node.not_visited if i != special_action]\n",
    "        cur_coord = state.loc[self.current_node.id, special_action]\n",
    "        length = -(cur_coord - self.current_node.cur_coord).norm(p=2, dim=-1)\n",
    "\n",
    "        #updated_prefix = self.current_node.prefix + [special_action]\n",
    "\n",
    "        #dist = np.delete(np.delete(self.orig_dist, self.current_node.prefix[1:], 0), self.current_node.prefix[1:], 1)\n",
    "        #print('******** orig ******')\n",
    "        #print(self.orig_dist)\n",
    "        #print('******** mod ******')\n",
    "        #print(dist)\n",
    "        special_child = Node(\n",
    "            id=self.current_node.id,\n",
    "            first_a=self.current_node.first_a,\n",
    "            not_visited=not_visited,\n",
    "            prefix=self.current_node.prefix + [special_action],\n",
    "            lengths=self.current_node.lengths + length,\n",
    "            cur_coord=cur_coord,\n",
    "            done=len(not_visited) == 0,\n",
    "            logprob_so_far=self.current_node.logprob_so_far + logprobs[special_action],\n",
    "            max_gumbel=self.current_node.max_gumbel,\n",
    "            next_actions=not_visited,\n",
    "            depth=self.current_node.depth + 1,\n",
    "            t_opt=self.current_node.t_opt,\n",
    "            dfs_like=self.dfs_like)\n",
    "        \n",
    "        if special_child.t_opt:\n",
    "            self.nodes_opt.append(special_child)\n",
    "        else:\n",
    "            self.other_nodes.append(special_child)\n",
    "            \n",
    "        self.G.add_edge(self.current_node, special_child)\n",
    "        self.labels[special_child] = str(self.ids)\n",
    "        self.ids+=1\n",
    "        if self.prune and special_child.upper_bound < self.lower_bound:\n",
    "            self.prune_count += 1\n",
    "\n",
    "        else:\n",
    "            heapq.heappush(self.queue, special_child)\n",
    "\n",
    "        # Sample the max gumbel for the non-chosen actions and create an \"other\n",
    "        # children\" node if there are any alternatives left.\n",
    "\n",
    "        m = time.time()\n",
    "        other_actions = [i for i in self.current_node.next_actions if i != special_action]\n",
    "\n",
    "        assert len(other_actions) == len(self.current_node.next_actions) - 1\n",
    "        other_children = None\n",
    "        if other_actions and not self.inference:\n",
    "            other_max_location = utils_gumbel.logsumexp(logprobs[other_actions])\n",
    "            other_max_gumbel = utils_gumbel.sample_truncated_gumbel(self.current_node.logprob_so_far + other_max_location,\n",
    "                                                                    self.current_node.max_gumbel).item()\n",
    "            other_children = Node(\n",
    "                id=self.current_node.id,\n",
    "                first_a=self.current_node.first_a,\n",
    "                not_visited=self.current_node.not_visited,\n",
    "                prefix=self.current_node.prefix,\n",
    "                lengths=self.current_node.lengths,\n",
    "                cur_coord=self.current_node.cur_coord,\n",
    "                done=self.current_node.done,\n",
    "                logprob_so_far=self.current_node.logprob_so_far,\n",
    "                max_gumbel=other_max_gumbel,\n",
    "                next_actions=other_actions,\n",
    "                depth=self.current_node.depth + 1,\n",
    "                upper_bound=self.current_node.upper_bound,\n",
    "                t_opt=False,\n",
    "                dfs_like=False)\n",
    "            \n",
    "            self.other_nodes.append(other_children)\n",
    "            \n",
    "            self.G.add_edge(self.current_node, other_children)\n",
    "            self.labels[other_children] = str(self.ids)\n",
    "            self.ids+=1\n",
    "            if self.prune and other_children.upper_bound < self.lower_bound:\n",
    "                self.prune_count += 1\n",
    "            else:\n",
    "                heapq.heappush(self.queue, other_children)\n",
    "\n",
    "        f = time.time()\n",
    "        sp = m - s\n",
    "        oth = f - m\n",
    "        return special_child, other_children\n",
    "\n"
   ]
  },
  {
   "cell_type": "code",
   "execution_count": 5,
   "metadata": {},
   "outputs": [],
   "source": [
    "def encode(x, dirpg):\n",
    "    embeddings = dirpg.encoder(x, only_encoder=True)\n",
    "    state = dirpg.encoder.problem.make_state(x)\n",
    "    fixed = dirpg.encoder.precompute(embeddings)\n",
    "    return state, fixed\n",
    "\n",
    "\n",
    "x = torch.rand(1, 20, 2)\n",
    "\n",
    "def init_queue(x, dirpg, epsilon=1.0, alpha=1.0, start_from = 0):\n",
    "    dirpg.search_params['alpha'] = alpha \n",
    "    state, fixed = encode(x, dirpg)\n",
    "    _, state = dirpg.forward_and_update(state, fixed, first_action=start_from)\n",
    "    return PriorityQueue(init_state=state[torch.tensor(0)],\n",
    "                         distance_mat=state.dist[0],\n",
    "                         epsilon = epsilon,\n",
    "                         inference=False,\n",
    "                         search_params=dirpg.search_params), state, fixed\n"
   ]
  },
  {
   "cell_type": "code",
   "execution_count": 6,
   "metadata": {
    "scrolled": true
   },
   "outputs": [
    {
     "ename": "TypeError",
     "evalue": "unsupported operand type(s) for *: 'float' and 'NoneType'",
     "output_type": "error",
     "traceback": [
      "\u001b[0;31m---------------------------------------------------------------------------\u001b[0m",
      "\u001b[0;31mTypeError\u001b[0m                                 Traceback (most recent call last)",
      "\u001b[0;32m<ipython-input-6-b29a516274db>\u001b[0m in \u001b[0;36m<module>\u001b[0;34m\u001b[0m\n\u001b[1;32m     11\u001b[0m         \u001b[0mqueue\u001b[0m\u001b[0;34m.\u001b[0m\u001b[0mexpand\u001b[0m\u001b[0;34m(\u001b[0m\u001b[0mstate\u001b[0m\u001b[0;34m[\u001b[0m\u001b[0mtorch\u001b[0m\u001b[0;34m.\u001b[0m\u001b[0mtensor\u001b[0m\u001b[0;34m(\u001b[0m\u001b[0;36m0\u001b[0m\u001b[0;34m)\u001b[0m\u001b[0;34m]\u001b[0m\u001b[0;34m,\u001b[0m \u001b[0mlog_p\u001b[0m\u001b[0;34m[\u001b[0m\u001b[0;36m0\u001b[0m\u001b[0;34m]\u001b[0m\u001b[0;34m)\u001b[0m\u001b[0;34m\u001b[0m\u001b[0;34m\u001b[0m\u001b[0m\n\u001b[1;32m     12\u001b[0m \u001b[0;34m\u001b[0m\u001b[0m\n\u001b[0;32m---> 13\u001b[0;31m \u001b[0mqueue\u001b[0m\u001b[0;34m,\u001b[0m\u001b[0mstate\u001b[0m\u001b[0;34m,\u001b[0m \u001b[0mfixed\u001b[0m \u001b[0;34m=\u001b[0m \u001b[0minit_queue\u001b[0m\u001b[0;34m(\u001b[0m\u001b[0mx\u001b[0m\u001b[0;34m,\u001b[0m \u001b[0mdirpg\u001b[0m\u001b[0;34m)\u001b[0m\u001b[0;34m\u001b[0m\u001b[0;34m\u001b[0m\u001b[0m\n\u001b[0m\u001b[1;32m     14\u001b[0m \u001b[0mqueue\u001b[0m \u001b[0;34m=\u001b[0m \u001b[0msample\u001b[0m\u001b[0;34m(\u001b[0m\u001b[0mqueue\u001b[0m\u001b[0;34m,\u001b[0m \u001b[0mfixed\u001b[0m\u001b[0;34m,\u001b[0m \u001b[0mstate\u001b[0m\u001b[0;34m)\u001b[0m\u001b[0;34m\u001b[0m\u001b[0;34m\u001b[0m\u001b[0m\n\u001b[1;32m     15\u001b[0m \u001b[0mprint\u001b[0m\u001b[0;34m(\u001b[0m\u001b[0mqueue\u001b[0m\u001b[0;34m.\u001b[0m\u001b[0mnum_interactions\u001b[0m\u001b[0;34m)\u001b[0m\u001b[0;34m\u001b[0m\u001b[0;34m\u001b[0m\u001b[0m\n",
      "\u001b[0;32m<ipython-input-5-0f746947a0cc>\u001b[0m in \u001b[0;36minit_queue\u001b[0;34m(x, dirpg, epsilon, alpha, start_from)\u001b[0m\n\u001b[1;32m     16\u001b[0m                          \u001b[0mepsilon\u001b[0m \u001b[0;34m=\u001b[0m \u001b[0mepsilon\u001b[0m\u001b[0;34m,\u001b[0m\u001b[0;34m\u001b[0m\u001b[0;34m\u001b[0m\u001b[0m\n\u001b[1;32m     17\u001b[0m                          \u001b[0minference\u001b[0m\u001b[0;34m=\u001b[0m\u001b[0;32mFalse\u001b[0m\u001b[0;34m,\u001b[0m\u001b[0;34m\u001b[0m\u001b[0;34m\u001b[0m\u001b[0m\n\u001b[0;32m---> 18\u001b[0;31m                          search_params=dirpg.search_params), state, fixed\n\u001b[0m",
      "\u001b[0;32m<ipython-input-4-84e61855f0ce>\u001b[0m in \u001b[0;36m__init__\u001b[0;34m(self, init_state, distance_mat, epsilon, search_params, inference)\u001b[0m\n\u001b[1;32m     45\u001b[0m                          \u001b[0mcur_coord\u001b[0m\u001b[0;34m=\u001b[0m\u001b[0mself\u001b[0m\u001b[0;34m.\u001b[0m\u001b[0mfirst_coord\u001b[0m\u001b[0;34m,\u001b[0m\u001b[0;34m\u001b[0m\u001b[0;34m\u001b[0m\u001b[0m\n\u001b[1;32m     46\u001b[0m                          \u001b[0mmax_gumbel\u001b[0m\u001b[0;34m=\u001b[0m\u001b[0mutils_gumbel\u001b[0m\u001b[0;34m.\u001b[0m\u001b[0msample_gumbel\u001b[0m\u001b[0;34m(\u001b[0m\u001b[0;36m0\u001b[0m\u001b[0;34m)\u001b[0m\u001b[0;34m,\u001b[0m\u001b[0;34m\u001b[0m\u001b[0;34m\u001b[0m\u001b[0m\n\u001b[0;32m---> 47\u001b[0;31m                          t_opt=True)\n\u001b[0m\u001b[1;32m     48\u001b[0m         \u001b[0mself\u001b[0m\u001b[0;34m.\u001b[0m\u001b[0mG\u001b[0m\u001b[0;34m.\u001b[0m\u001b[0madd_node\u001b[0m\u001b[0;34m(\u001b[0m\u001b[0mself\u001b[0m\u001b[0;34m.\u001b[0m\u001b[0mroot_node\u001b[0m\u001b[0;34m)\u001b[0m\u001b[0;34m\u001b[0m\u001b[0;34m\u001b[0m\u001b[0m\n\u001b[1;32m     49\u001b[0m \u001b[0;34m\u001b[0m\u001b[0m\n",
      "\u001b[0;32m~/Research/DirPG_TSP/DirPG-TSP/a_star_sampling.py\u001b[0m in \u001b[0;36m__init__\u001b[0;34m(self, id, first_a, next_actions, not_visited, prefix, lengths, cur_coord, done, logprob_so_far, bound_togo, depth, max_gumbel, t_opt, dfs_like)\u001b[0m\n\u001b[1;32m     80\u001b[0m         \u001b[0mself\u001b[0m\u001b[0;34m.\u001b[0m\u001b[0mbound_togo\u001b[0m \u001b[0;34m=\u001b[0m \u001b[0mbound_togo\u001b[0m\u001b[0;34m\u001b[0m\u001b[0;34m\u001b[0m\u001b[0m\n\u001b[1;32m     81\u001b[0m \u001b[0;34m\u001b[0m\u001b[0m\n\u001b[0;32m---> 82\u001b[0;31m         \u001b[0mself\u001b[0m\u001b[0;34m.\u001b[0m\u001b[0mpriority\u001b[0m \u001b[0;34m=\u001b[0m \u001b[0mself\u001b[0m\u001b[0;34m.\u001b[0m\u001b[0mget_priority\u001b[0m\u001b[0;34m(\u001b[0m\u001b[0;34m)\u001b[0m\u001b[0;34m\u001b[0m\u001b[0;34m\u001b[0m\u001b[0m\n\u001b[0m\u001b[1;32m     83\u001b[0m         \u001b[0mself\u001b[0m\u001b[0;34m.\u001b[0m\u001b[0mobjective\u001b[0m \u001b[0;34m=\u001b[0m \u001b[0mself\u001b[0m\u001b[0;34m.\u001b[0m\u001b[0mget_objective\u001b[0m\u001b[0;34m(\u001b[0m\u001b[0;34m)\u001b[0m  \u001b[0;31m#  self.priority\u001b[0m\u001b[0;34m\u001b[0m\u001b[0;34m\u001b[0m\u001b[0m\n\u001b[1;32m     84\u001b[0m         \u001b[0mself\u001b[0m\u001b[0;34m.\u001b[0m\u001b[0mupper_bound\u001b[0m \u001b[0;34m=\u001b[0m \u001b[0mself\u001b[0m\u001b[0;34m.\u001b[0m\u001b[0mpriority\u001b[0m \u001b[0;31m#self.get_upper_bound()\u001b[0m\u001b[0;34m\u001b[0m\u001b[0;34m\u001b[0m\u001b[0m\n",
      "\u001b[0;32m~/Research/DirPG_TSP/DirPG-TSP/a_star_sampling.py\u001b[0m in \u001b[0;36mget_priority\u001b[0;34m(self, alpha)\u001b[0m\n\u001b[1;32m     98\u001b[0m \u001b[0;34m\u001b[0m\u001b[0m\n\u001b[1;32m     99\u001b[0m     \u001b[0;32mdef\u001b[0m \u001b[0mget_priority\u001b[0m\u001b[0;34m(\u001b[0m\u001b[0mself\u001b[0m\u001b[0;34m,\u001b[0m \u001b[0malpha\u001b[0m\u001b[0;34m=\u001b[0m\u001b[0;36m2\u001b[0m\u001b[0;34m)\u001b[0m\u001b[0;34m:\u001b[0m\u001b[0;34m\u001b[0m\u001b[0;34m\u001b[0m\u001b[0m\n\u001b[0;32m--> 100\u001b[0;31m         \u001b[0;32mreturn\u001b[0m \u001b[0mself\u001b[0m\u001b[0;34m.\u001b[0m\u001b[0mmax_gumbel\u001b[0m \u001b[0;34m+\u001b[0m \u001b[0mself\u001b[0m\u001b[0;34m.\u001b[0m\u001b[0mepsilon\u001b[0m \u001b[0;34m*\u001b[0m \u001b[0;34m(\u001b[0m\u001b[0mself\u001b[0m\u001b[0;34m.\u001b[0m\u001b[0mlengths\u001b[0m \u001b[0;34m+\u001b[0m \u001b[0mself\u001b[0m\u001b[0;34m.\u001b[0m\u001b[0malpha\u001b[0m\u001b[0;34m*\u001b[0m\u001b[0mself\u001b[0m\u001b[0;34m.\u001b[0m\u001b[0mbound_togo\u001b[0m\u001b[0;34m)\u001b[0m\u001b[0;34m\u001b[0m\u001b[0;34m\u001b[0m\u001b[0m\n\u001b[0m\u001b[1;32m    101\u001b[0m \u001b[0;34m\u001b[0m\u001b[0m\n\u001b[1;32m    102\u001b[0m     \u001b[0;32mdef\u001b[0m \u001b[0mget_priority_max_gumbel\u001b[0m\u001b[0;34m(\u001b[0m\u001b[0mself\u001b[0m\u001b[0;34m)\u001b[0m\u001b[0;34m:\u001b[0m\u001b[0;34m\u001b[0m\u001b[0;34m\u001b[0m\u001b[0m\n",
      "\u001b[0;31mTypeError\u001b[0m: unsupported operand type(s) for *: 'float' and 'NoneType'"
     ]
    }
   ],
   "source": [
    "def sample(queue, fixed, state):\n",
    "    \n",
    "    while queue:\n",
    "        parent = queue.pop()\n",
    "        if parent == 'break':\n",
    "            return queue\n",
    "\n",
    "        batch_state = state.stack_state([parent])\n",
    "        log_p, state = dirpg.forward_and_update(batch_state, fixed)\n",
    "\n",
    "        queue.expand(state[torch.tensor(0)], log_p[0])\n",
    "    \n",
    "queue,state, fixed = init_queue(x, dirpg)\n",
    "queue = sample(queue, fixed, state)\n",
    "print(queue.num_interactions)"
   ]
  },
  {
   "cell_type": "markdown",
   "metadata": {},
   "source": [
    "## Interactive tree plot"
   ]
  },
  {
   "cell_type": "code",
   "execution_count": 7,
   "metadata": {},
   "outputs": [],
   "source": [
    "plt.rcParams['figure.figsize'] = [16, 6]"
   ]
  },
  {
   "cell_type": "code",
   "execution_count": 8,
   "metadata": {},
   "outputs": [],
   "source": [
    "np.random.seed(3)\n",
    "torch.manual_seed(3)\n",
    "x = torch.rand(1, num_cities, 2)\n",
    "#x = torch.load('good_example_8graph')\n",
    "abc = string.ascii_lowercase[:x.size(1)]"
   ]
  },
  {
   "cell_type": "code",
   "execution_count": 9,
   "metadata": {},
   "outputs": [],
   "source": [
    "direct, first_direct = None, True\n",
    "queue,state, fixed = init_queue(x, dirpg, epsilon=2.0, alpha=1.0)"
   ]
  },
  {
   "cell_type": "markdown",
   "metadata": {},
   "source": [
    "### Press Ctrl+Entr to expand the queue\n",
    "\n",
    "#### Left: priority queue,   Right: prefix of the current node (yellow node in the left fig)"
   ]
  },
  {
   "cell_type": "code",
   "execution_count": 10,
   "metadata": {
    "scrolled": false
   },
   "outputs": [
    {
     "name": "stdout",
     "output_type": "stream",
     "text": [
      "special child prefix: \n",
      "['a', 'd']\n",
      "depth:  1\n"
     ]
    },
    {
     "data": {
      "image/png": "[encoded data removed]",
      "text/plain": [
       "<Figure size 1152x432 with 2 Axes>"
      ]
     },
     "metadata": {},
     "output_type": "display_data"
    }
   ],
   "source": [
    "cities = nx.DiGraph()\n",
    "cities.add_nodes_from(range(x.size(1)))\n",
    "parent = queue.pop()\n",
    "\n",
    "\n",
    "if parent == 'break':\n",
    "    print('END')\n",
    "else:\n",
    "    batch_state = state.stack_state([parent])\n",
    "    log_p, state = dirpg.forward_and_update(batch_state, fixed)\n",
    "\n",
    "    sp, oth = queue.expand(state[torch.tensor(0)], log_p[0])\n",
    "    \n",
    "    if queue.t_opt is not None:\n",
    "        print('t_opt: ')\n",
    "        print([abc[i] for i in queue.t_opt.actions])\n",
    "    if queue.t_direct is not None:\n",
    "        print('t_direct: ')\n",
    "        print([abc[i] for i in queue.t_direct.actions])\n",
    "    print('special child prefix: ')\n",
    "    print([abc[i] for i in sp.prefix])\n",
    "    \n",
    "    \n",
    "    print('depth: ', sp.depth)\n",
    "    \n",
    "    plt.subplot(121)\n",
    "    pos = nx.kamada_kawai_layout(queue.G)\n",
    "    # nx.draw_networkx(queue.G,pos=pos, with_labels=False, font_weight='bold')\n",
    "    colors = []\n",
    "    nx.draw_networkx_nodes(queue.G, pos,\n",
    "                           nodelist=[queue.root_node],                           \n",
    "                           node_size = 1000,\n",
    "                           node_color='g',\n",
    "                           alpha=0.8)\n",
    "    opt_nodes = [i for i in queue.nodes_opt if i!=sp]\n",
    "    nx.draw_networkx_nodes(queue.G, pos,\n",
    "                           nodelist=opt_nodes,\n",
    "                           node_size = 500,                           \n",
    "                           node_color='r',\n",
    "                           alpha=0.5)\n",
    "    \n",
    "    in_queue = [i for i in queue.other_nodes if i in queue.queue]\n",
    "    nx.draw_networkx_nodes(queue.G, pos,\n",
    "                           nodelist=in_queue,\n",
    "                           node_size = 500,\n",
    "                           node_color='y',\n",
    "                           alpha=0.8)\n",
    "    \n",
    "    out_of_queue = [i for i in queue.other_nodes if i not in queue.queue]\n",
    "    nx.draw_networkx_nodes(queue.G, pos,\n",
    "                           nodelist=out_of_queue,\n",
    "                           node_size = 500,\n",
    "                           node_color=[(0.2,0.2,0.2) for _ in range(len(out_of_queue))],\n",
    "                           alpha=0.6)    \n",
    "            \n",
    "    nx.draw_networkx_nodes(queue.G, pos,\n",
    "                           nodelist=[sp],\n",
    "                           node_size = 500,                           \n",
    "                           node_color=[(0.0,1.0,0.0)],\n",
    "                           alpha=0.8)\n",
    "    \"\"\"\n",
    "    if first_direct and queue.t_direct != queue.t_opt:        \n",
    "        first_direct = False\n",
    "        direct = queue.t_direct\n",
    "    \"\"\"\n",
    "    if queue.direct_node is not None:\n",
    "        \"\"\"\n",
    "        if direct != queue.t_direct:\n",
    "            direct = queue.t_direct\n",
    "         \n",
    "        \"\"\"   \n",
    "        nx.draw_networkx_nodes(queue.G, pos,\n",
    "                               nodelist=[queue.direct_node],\n",
    "                               node_shape='^',\n",
    "                               node_size = 800,                           \n",
    "                               node_color=[(0.0,1.0,0.0)],\n",
    "                               alpha=0.8) \n",
    "\n",
    "            \n",
    "\n",
    "\n",
    "    \n",
    "    nx.draw_networkx_edges(queue.G, pos, width=1.0, alpha=0.5)\n",
    "\n",
    "\n",
    "    nx.draw_networkx_edges(queue.G, pos,\n",
    "                           edgelist=[(parent, sp)],\n",
    "                           width=8, alpha=0.5, edge_color='r')\n",
    "\n",
    "    \n",
    "        \n",
    "    nx.draw_networkx_labels(queue.G, pos, labels= queue.labels, font_size=16)\n",
    "    \n",
    "    #####################\n",
    "    \n",
    "    plt.subplot(122)\n",
    "    pos2 = {i:loc.numpy() for i,loc in enumerate(x[0])} \n",
    "    edgelist = [(sp.prefix[i],sp.prefix[i+1]) for i in range(len(sp.prefix)) if i<len(sp.prefix)-1]\n",
    "    \n",
    "    nx.draw_networkx_nodes(cities, pos2,                            \n",
    "                           node_size = 1000,\n",
    "                           node_color='lightgrey',\n",
    "                           alpha=1.0) \n",
    "    \n",
    "    nx.draw_networkx_nodes(cities, pos2,\n",
    "                           nodelist=[sp.prefix[0]], \n",
    "                           node_size = 1000,\n",
    "                           node_color='g',\n",
    "                           alpha=0.8)\n",
    "    \n",
    "    nx.draw_networkx_edges(cities, pos2,\n",
    "                           edgelist=edgelist,\n",
    "                           width=3, alpha=0.5, min_target_margin=15)\n",
    "    \n",
    "    if queue.t_opt is not None:\n",
    "        a = queue.t_opt.actions\n",
    "        edgelist = [(a[i],a[i+1]) for i in range(len(a)) if i<len(a)-1]\n",
    "        nx.draw_networkx_edges(cities, pos2,\n",
    "                               edgelist=edgelist,\n",
    "                               width=8, alpha=0.3, edge_color='r',min_target_margin=15)\n",
    "    \n",
    "    if queue.t_direct != queue.t_opt:        \n",
    "        a = queue.t_direct.actions\n",
    "        edgelist = [(a[i],a[i+1]) for i in range(len(a)) if i<len(a)-1]\n",
    "        nx.draw_networkx_edges(cities, pos2,\n",
    "                               edgelist=edgelist,\n",
    "                               width=8, alpha=0.3, edge_color='g',min_target_margin=15)\n",
    "\n",
    "\n",
    "    l = {i:abc[i] for i in range(x.size(1))}\n",
    "    \n",
    "    nx.draw_networkx_labels(cities, pos2, labels=l, font_size=14)\n",
    "    last_parent = parent\n",
    "    \n",
    "    #nx.draw_networkx(cities,pos, edgelist=edgelist, node_size= 500, node_color='lightgrey' )\n",
    "    "
   ]
  },
  {
   "cell_type": "markdown",
   "metadata": {},
   "source": [
    "## Node size: \n",
    "##### max Gumbel\n",
    "## Node color: \n",
    "##### epsilon(length + 2MST)"
   ]
  },
  {
   "cell_type": "code",
   "execution_count": 11,
   "metadata": {},
   "outputs": [],
   "source": [
    "def make_circule(n):\n",
    "    G = nx.Graph()\n",
    "    G.add_nodes_from(range(n))\n",
    "    pos = nx.circular_layout(G, scale=0.5, center=(0.5,0.5))\n",
    "    \n",
    "    return torch.tensor([np.stack(list(pos.values()))], dtype = torch.float32)\n",
    "\n",
    "\n"
   ]
  },
  {
   "cell_type": "code",
   "execution_count": 12,
   "metadata": {},
   "outputs": [],
   "source": [
    "def min_max_norm(x, a, b):\n",
    "    min_x = np.min(x)\n",
    "    max_x = np.max(x)\n",
    "    return a + (((x - min_x)*(b-a))/(max_x - min_x))\n",
    "\n",
    "def norm(x):\n",
    "    return (x-np.mean(x))/np.std(x)"
   ]
  },
  {
   "cell_type": "code",
   "execution_count": 13,
   "metadata": {},
   "outputs": [],
   "source": [
    "np.random.seed(4)\n",
    "torch.manual_seed(4)\n",
    "x = torch.rand(1, num_cities, 2)\n",
    "# x = make_circule(num_cities)\n",
    "#x = torch.load('good_example_8graph')\n"
   ]
  },
  {
   "cell_type": "code",
   "execution_count": 14,
   "metadata": {},
   "outputs": [],
   "source": [
    "queue,state, fixed = init_queue(x, dirpg, epsilon=10.0, alpha=2.0)\n",
    "update = False\n",
    "direct, first_direct = None, True\n",
    "parent = queue.pop()"
   ]
  },
  {
   "cell_type": "code",
   "execution_count": 15,
   "metadata": {
    "scrolled": false
   },
   "outputs": [
    {
     "name": "stdout",
     "output_type": "stream",
     "text": [
      "special child prefix: \n",
      "['a', 'e']\n",
      "prune count:  0\n",
      "lower bound:  -inf\n",
      "scecial child: \n",
      " -----------    Node     -----------\n",
      "id:   tensor(0)\n",
      "first_a:   0\n",
      "prefix:   [0, 4]\n",
      "not visited:   [1, 2, 3, 5, 6, 7]\n",
      "next_actions:   [1, 2, 3, 5, 6, 7]\n",
      "t:   2\n",
      "distance matrix:\n",
      "tensor([[0.0000, 0.5840, 0.7588, 0.5595, 0.4195, 0.4201, 0.3765, 0.2391],\n",
      "        [0.5840, 0.0000, 0.1907, 1.1432, 0.9285, 0.2275, 0.8754, 0.7723],\n",
      "        [0.7588, 0.1907, 0.0000, 1.3175, 1.1175, 0.3579, 1.0166, 0.9581],\n",
      "        [0.5595, 1.1432, 1.3175, 0.0000, 0.3793, 0.9705, 0.4446, 0.4149],\n",
      "        [0.4195, 0.9285, 1.1175, 0.3793, 0.0000, 0.8165, 0.5878, 0.1804],\n",
      "        [0.4201, 0.2275, 0.3579, 0.9705, 0.8165, 0.0000, 0.6601, 0.6430],\n",
      "        [0.3765, 0.8754, 1.0166, 0.4446, 0.5878, 0.6601, 0.0000, 0.4621],\n",
      "        [0.2391, 0.7723, 0.9581, 0.4149, 0.1804, 0.6430, 0.4621, 0.0000]])\n",
      "alpha*MST:  tensor(-4.0270)\n",
      "priority:  -37.30284118652344\n",
      "objective:  tensor(-5.4219)\n",
      "upper bound:  tensor(-41.4974)\n",
      "lengths:   tensor(-0.4195)\n",
      "bound length togo:  tensor(-4.0270)\n",
      "done:   False\n",
      "logprob_so_far:   tensor(-1.1164, grad_fn=<AddBackward0>)\n",
      "max_gumbel:   -1.2273432766685137\n",
      "t_opt:   True\n",
      " -------------------------------\n",
      "other children: \n",
      " -----------    Node     -----------\n",
      "id:   tensor(0)\n",
      "first_a:   0\n",
      "prefix:   [0]\n",
      "not visited:   [1, 2, 3, 4, 5, 6, 7]\n",
      "next_actions:   [1, 2, 3, 5, 6, 7]\n",
      "t:   1\n",
      "distance matrix:\n",
      "tensor([[0.0000, 0.5840, 0.7588, 0.5595, 0.4195, 0.4201, 0.3765, 0.2391],\n",
      "        [0.5840, 0.0000, 0.1907, 1.1432, 0.9285, 0.2275, 0.8754, 0.7723],\n",
      "        [0.7588, 0.1907, 0.0000, 1.3175, 1.1175, 0.3579, 1.0166, 0.9581],\n",
      "        [0.5595, 1.1432, 1.3175, 0.0000, 0.3793, 0.9705, 0.4446, 0.4149],\n",
      "        [0.4195, 0.9285, 1.1175, 0.3793, 0.0000, 0.8165, 0.5878, 0.1804],\n",
      "        [0.4201, 0.2275, 0.3579, 0.9705, 0.8165, 0.0000, 0.6601, 0.6430],\n",
      "        [0.3765, 0.8754, 1.0166, 0.4446, 0.5878, 0.6601, 0.0000, 0.4621],\n",
      "        [0.2391, 0.7723, 0.9581, 0.4149, 0.1804, 0.6430, 0.4621, 0.0000]])\n",
      "alpha*MST:  tensor(-4.0270)\n",
      "priority:  -41.70049285888672\n",
      "objective:  -1.4304152727127075\n",
      "upper bound:  tensor(-41.7005)\n",
      "lengths:   0.0\n",
      "bound length togo:  tensor(-4.0270)\n",
      "done:   False\n",
      "logprob_so_far:   0\n",
      "max_gumbel:   -1.4304152727127075\n",
      "t_opt:   False\n",
      " -------------------------------\n"
     ]
    },
    {
     "data": {
      "image/png": "[encoded data removed]",
      "text/plain": [
       "<Figure size 1152x432 with 2 Axes>"
      ]
     },
     "metadata": {},
     "output_type": "display_data"
    }
   ],
   "source": [
    "Node.budget = dirpg_opts.max_interactions\n",
    "update = not update    \n",
    "\n",
    "cities = nx.DiGraph()\n",
    "cities.add_nodes_from(range(x.size(1)))\n",
    "if parent == 'break':\n",
    "    print('END')\n",
    "else:\n",
    "    if update:        \n",
    "        \n",
    "        batch_state = state.stack_state([parent])\n",
    "        log_p, state = dirpg.forward_and_update(batch_state, fixed)\n",
    "\n",
    "        sp, oth = queue.expand(state[torch.tensor(0)], log_p[0])\n",
    "    if queue.t_opt is not None:\n",
    "        print('t_opt: ')\n",
    "        print([abc[i] for i in queue.t_opt.actions])\n",
    "    if queue.t_direct is not None:\n",
    "        print('t_direct: ')\n",
    "        print([abc[i] for i in queue.t_direct.actions])\n",
    "        \n",
    "    print('special child prefix: ')\n",
    "    print([abc[i] for i in sp.prefix])\n",
    "    print('prune count: ', queue.prune_count)\n",
    "    print('lower bound: ',queue.lower_bound )\n",
    "    print('scecial child: ')\n",
    "    sp.print()\n",
    "    print('other children: ')\n",
    "    oth.print() if oth is not None else None    \n",
    "    #print('scecial upper bound: ',sp.upper_bound)\n",
    "    #print('others upper bound: ',oth.upper_bound) if oth is not None else None\n",
    "    ax = plt.subplot(121)\n",
    "    \n",
    "    pos = nx.kamada_kawai_layout(queue.G)\n",
    "    # nx.draw_networkx(queue.G,pos=pos, with_labels=False, font_weight='bold')\n",
    "    \n",
    "    nx.draw_networkx_nodes(queue.G, pos,\n",
    "                           nodelist=[queue.root_node], \n",
    "                           node_size = 1000,\n",
    "                           node_color='g',\n",
    "                           alpha=0.8)\n",
    "\n",
    "    nx.draw_networkx_edges(queue.G, pos, width=1.0, alpha=0.5)\n",
    "\n",
    "\n",
    "    nx.draw_networkx_edges(queue.G, pos,\n",
    "                           edgelist=[(parent, sp)],\n",
    "                           width=8, alpha=0.5, edge_color=(0.0,1.0,0.0))\n",
    "    \"\"\"\n",
    "    print('max_gumbel  +   eps*(- length - 2MST) = ')\n",
    "    for i,j in zip([n.max_gumbel for n in queue.queue],\n",
    "                  [Node.epsilon*n.get_upper_bound(2.0).item() for n in queue.queue]):\n",
    "        \n",
    "        print(i, ' +  ',j,  '  = ', i+j )\n",
    "    \"\"\"\n",
    "    org_s = [n.max_gumbel for n in queue.queue]\n",
    "    \n",
    "    s2 = [300+4000.0*np.exp(n.max_gumbel) for n in queue.queue]\n",
    "    s_mm = min_max_norm(org_s, a=np.min(org_s) ,b=np.max([5000,np.max(org_s)]))\n",
    "    s_n = 300+100*norm(org_s)\n",
    "\n",
    "    colors = [n.eps_reward.item() for n in queue.queue]\n",
    "\n",
    "    nx.draw(queue.G, pos,\n",
    "        nodelist=queue.queue,\n",
    "        node_size=s2,\n",
    "        node_color=colors,\n",
    "        cmap=plt.cm.YlOrRd,\n",
    "        alpha=0.8)\n",
    "    \n",
    "    out_of_queue = [i for i in queue.G if i not in queue.queue if i != queue.root_node]\n",
    "    nx.draw_networkx_nodes(queue.G, pos,\n",
    "                           nodelist=out_of_queue,\n",
    "                           node_size = 500,\n",
    "                           node_color=[(0.2,0.2,0.2) for _ in range(len(out_of_queue))],\n",
    "                           alpha=0.6) \n",
    "    if not update:\n",
    "        parent = queue.pop()\n",
    "        ax.set_facecolor(color='none')\n",
    "        nx.draw_networkx_nodes(queue.G, pos,ax=ax,\n",
    "                               nodelist=[parent], \n",
    "                               node_size = 4000,\n",
    "                               node_color='none',\n",
    "                               linewidths=3.0,\n",
    "                               node_shape = matplotlib.markers.MarkerStyle(marker='h', fillstyle='none'),\n",
    "                               edgecolors='b')\n",
    "\n",
    "\n",
    "    \n",
    "    if queue.direct_node is not None:\n",
    "        nx.draw_networkx_nodes(queue.G, pos,\n",
    "                               nodelist=[queue.direct_node],\n",
    "                               node_shape='*',\n",
    "                               node_size = 1500,                           \n",
    "                               node_color=[(0.0,1.0,0.0)],\n",
    "                               alpha=0.8)\n",
    "            \n",
    "\n",
    "    nx.draw_networkx_labels(queue.G, pos, labels= queue.labels, font_size=16)\n",
    "    \n",
    "    #####################\n",
    "    \n",
    "    plt.subplot(122)\n",
    "    pos2 = {i:loc.numpy() for i,loc in enumerate(x[0])} \n",
    "    edgelist = [(sp.prefix[i],sp.prefix[i+1]) for i in range(len(sp.prefix)) if i<len(sp.prefix)-1]\n",
    "    \n",
    "    nx.draw_networkx_nodes(cities, pos2,                            \n",
    "                           node_size = 1000,\n",
    "                           node_color='lightgrey',\n",
    "                           alpha=1.0) \n",
    "    \n",
    "    nx.draw_networkx_nodes(cities, pos2,\n",
    "                           nodelist=[sp.prefix[0]], \n",
    "                           node_size = 1000,\n",
    "                           node_color='g',\n",
    "                           alpha=0.8)\n",
    "    \n",
    "    nx.draw_networkx_edges(cities, pos2,\n",
    "                           edgelist=edgelist,\n",
    "                           width=3, alpha=0.5, min_target_margin=15)\n",
    "    \n",
    "    if queue.t_opt is not None:\n",
    "        a = queue.t_opt.actions\n",
    "        edgelist = [(a[i],a[i+1]) for i in range(len(a)) if i<len(a)-1]\n",
    "        nx.draw_networkx_edges(cities, pos2,\n",
    "                               edgelist=edgelist,\n",
    "                               width=8, alpha=0.2, edge_color='r',min_target_margin=15)\n",
    "    \n",
    "    if queue.t_direct != queue.t_opt:\n",
    "        a = queue.t_direct.actions\n",
    "        edgelist = [(a[i],a[i+1]) for i in range(len(a)) if i<len(a)-1]\n",
    "        nx.draw_networkx_edges(cities, pos2,\n",
    "                               edgelist=edgelist,\n",
    "                               width=8, alpha=0.2, edge_color='g',min_target_margin=15)\n",
    "        \n",
    "        \n",
    "        \n",
    "    l = {i:abc[i] for i in range(x.size(1))}\n",
    "    \n",
    "  \n",
    "    nx.draw_networkx_labels(cities, pos2, labels=l, font_size=14)\n",
    "    \n",
    "    "
   ]
  },
  {
   "cell_type": "markdown",
   "metadata": {},
   "source": [
    "## DFS vs BFS\n",
    "\n",
    "### DFS: Nodes that extends a prefix are colored orange \n",
    "### BFS: Nodes that search for actions other than the last node are colored blue \n",
    "### Nodes that explore different prefix are colored yellow "
   ]
  },
  {
   "cell_type": "code",
   "execution_count": 16,
   "metadata": {},
   "outputs": [],
   "source": [
    "plt.rcParams['figure.figsize'] = [16, 6]\n",
    "np.random.seed(4)\n",
    "torch.manual_seed(4)\n",
    "x = torch.rand(1, num_cities, 2)\n",
    "# x = make_circule(num_cities)\n",
    "#x = torch.load('good_example_8graph')\n"
   ]
  },
  {
   "cell_type": "code",
   "execution_count": 17,
   "metadata": {},
   "outputs": [],
   "source": [
    "queue,state, fixed = init_queue(x, dirpg, epsilon=10.0, alpha=5.0)\n",
    "update = False\n",
    "direct, first_direct = None, True\n",
    "dfs, bfs, others = [],[],[]\n",
    "last_parent = None"
   ]
  },
  {
   "cell_type": "code",
   "execution_count": 18,
   "metadata": {},
   "outputs": [
    {
     "name": "stdout",
     "output_type": "stream",
     "text": [
      "special child prefix: \n",
      "['a', 'e']\n",
      "depth:  1\n",
      "alpha:  5.0\n"
     ]
    },
    {
     "data": {
      "image/png": "[encoded data removed]",
      "text/plain": [
       "<Figure size 1152x432 with 2 Axes>"
      ]
     },
     "metadata": {},
     "output_type": "display_data"
    }
   ],
   "source": [
    "cities = nx.DiGraph()\n",
    "cities.add_nodes_from(range(x.size(1)))\n",
    "parent = queue.pop()\n",
    "\n",
    "\n",
    "if parent == 'break':\n",
    "    print('END')\n",
    "else:\n",
    "    batch_state = state.stack_state([parent])\n",
    "    log_p, state = dirpg.forward_and_update(batch_state, fixed)\n",
    "\n",
    "    sp, oth = queue.expand(state[torch.tensor(0)], log_p[0])\n",
    "    \n",
    "\n",
    "    if last_parent is not None and parent not in queue.nodes_opt:\n",
    "\n",
    "        if parent.prefix == last_parent.prefix:\n",
    "            bfs.append(parent)\n",
    "        elif parent.prefix[:-1] == last_parent.prefix:\n",
    "            dfs.append(parent)\n",
    "        else:\n",
    "            others.append(parent)\n",
    "        \n",
    "    if queue.t_opt is not None:\n",
    "        print('t_opt: ')\n",
    "        print([abc[i] for i in queue.t_opt.actions])\n",
    "    if queue.t_direct is not None:\n",
    "        print('t_direct: ')\n",
    "        print([abc[i] for i in queue.t_direct.actions])\n",
    "    print('special child prefix: ')\n",
    "    print([abc[i] for i in sp.prefix])\n",
    "    \n",
    "    print('depth: ', sp.depth)\n",
    "    print('alpha: ', sp.alpha)\n",
    "    \n",
    "    plt.subplot(121)\n",
    "    pos = nx.kamada_kawai_layout(queue.G)\n",
    "    # nx.draw_networkx(queue.G,pos=pos, with_labels=False, font_weight='bold')\n",
    "    nx.draw_networkx_nodes(queue.G, pos,\n",
    "                           nodelist=[queue.root_node],                           \n",
    "                           node_size = 1000,\n",
    "                           node_color='g',\n",
    "                           alpha=0.8)\n",
    "    opt_nodes = [i for i in queue.nodes_opt if i!=sp]\n",
    "    nx.draw_networkx_nodes(queue.G, pos,\n",
    "                           nodelist=queue.nodes_opt,\n",
    "                           node_size = 500,                           \n",
    "                           node_color='r',\n",
    "                           alpha=0.5)\n",
    "    \n",
    "    others_nodes = [i for i in queue.other_nodes if i not in dfs+bfs+others]\n",
    "    nx.draw_networkx_nodes(queue.G, pos,\n",
    "                           nodelist=others_nodes,\n",
    "                           node_size = 500,\n",
    "                           node_color=[(0.2,0.2,0.2) for _ in range(len(others_nodes))],\n",
    "                           alpha=0.6) \n",
    "    \n",
    "    if dfs:\n",
    "        nx.draw_networkx_nodes(queue.G, pos,\n",
    "                               nodelist=dfs,\n",
    "                               node_size = 500,\n",
    "                               node_color='orange',\n",
    "                               alpha=0.8)\n",
    "    if bfs:\n",
    "        nx.draw_networkx_nodes(queue.G, pos,\n",
    "                               nodelist=bfs,\n",
    "                               node_size = 500,\n",
    "                               node_color='blue',\n",
    "                               alpha=0.6)  \n",
    "    if others:\n",
    "        nx.draw_networkx_nodes(queue.G, pos,\n",
    "                               nodelist=others,\n",
    "                               node_size = 500,\n",
    "                               node_color='magenta',\n",
    "                               alpha=0.6)             \n",
    "    nx.draw_networkx_nodes(queue.G, pos,\n",
    "                           nodelist=[sp],\n",
    "                           node_size = 500,                           \n",
    "                           node_color=[(0.0,1.0,0.0)],\n",
    "                           alpha=0.8)\n",
    "    \"\"\"\n",
    "    if first_direct and queue.t_direct != queue.t_opt:        \n",
    "        first_direct = False\n",
    "        direct = queue.t_direct\n",
    "    \"\"\"\n",
    "    if queue.direct_node is not None:\n",
    "        \"\"\"\n",
    "        if direct != queue.t_direct:\n",
    "            direct = queue.t_direct\n",
    "         \n",
    "        \"\"\"   \n",
    "        nx.draw_networkx_nodes(queue.G, pos,\n",
    "                               nodelist=[queue.direct_node],\n",
    "                               node_shape='^',\n",
    "                               node_size = 800,                           \n",
    "                               node_color=[(0.0,1.0,0.0)],\n",
    "                               alpha=0.8) \n",
    "\n",
    "            \n",
    "\n",
    "\n",
    "    \n",
    "    nx.draw_networkx_edges(queue.G, pos, width=1.0, alpha=0.5)\n",
    "\n",
    "\n",
    "    nx.draw_networkx_edges(queue.G, pos,\n",
    "                           edgelist=[(parent, sp)],\n",
    "                           width=8, alpha=0.5, edge_color='r')\n",
    "\n",
    "    \n",
    "        \n",
    "    nx.draw_networkx_labels(queue.G, pos, labels= queue.labels, font_size=16)\n",
    "    \n",
    "    #####################\n",
    "    \n",
    "    plt.subplot(122)\n",
    "    pos2 = {i:loc.numpy() for i,loc in enumerate(x[0])} \n",
    "    edgelist = [(sp.prefix[i],sp.prefix[i+1]) for i in range(len(sp.prefix)) if i<len(sp.prefix)-1]\n",
    "    \n",
    "    nx.draw_networkx_nodes(cities, pos2,                            \n",
    "                           node_size = 1000,\n",
    "                           node_color='lightgrey',\n",
    "                           alpha=1.0) \n",
    "    \n",
    "    nx.draw_networkx_nodes(cities, pos2,\n",
    "                           nodelist=[sp.prefix[0]], \n",
    "                           node_size = 1000,\n",
    "                           node_color='g',\n",
    "                           alpha=0.8)\n",
    "    \n",
    "    nx.draw_networkx_edges(cities, pos2,\n",
    "                           edgelist=edgelist,\n",
    "                           width=3, alpha=0.5, min_target_margin=15)\n",
    "    \n",
    "    if queue.t_opt is not None:\n",
    "        a = queue.t_opt.actions\n",
    "        edgelist = [(a[i],a[i+1]) for i in range(len(a)) if i<len(a)-1]\n",
    "        nx.draw_networkx_edges(cities, pos2,\n",
    "                               edgelist=edgelist,\n",
    "                               width=8, alpha=0.3, edge_color='r',min_target_margin=15)\n",
    "    \n",
    "    if queue.t_direct != queue.t_opt:        \n",
    "        a = queue.t_direct.actions\n",
    "        edgelist = [(a[i],a[i+1]) for i in range(len(a)) if i<len(a)-1]\n",
    "        nx.draw_networkx_edges(cities, pos2,\n",
    "                               edgelist=edgelist,\n",
    "                               width=8, alpha=0.3, edge_color='g',min_target_margin=15)\n",
    "\n",
    "\n",
    "    l = {i:abc[i] for i in range(x.size(1))}\n",
    "    \n",
    "    nx.draw_networkx_labels(cities, pos2, labels=l, font_size=14)\n",
    "    last_parent = parent\n",
    "    \n",
    "    #nx.draw_networkx(cities,pos, edgelist=edgelist, node_size= 500, node_color='lightgrey' )\n",
    "    "
   ]
  },
  {
   "cell_type": "code",
   "execution_count": null,
   "metadata": {},
   "outputs": [],
   "source": []
  },
  {
   "cell_type": "code",
   "execution_count": 19,
   "metadata": {},
   "outputs": [],
   "source": [
    "def generate_random_distance_matrix(n):\n",
    "    loc = torch.FloatTensor(n, 2).uniform_(0, 1)\n",
    "    return (loc[:, None, :] - loc[None, :, :]).norm(p=2, dim=-1)"
   ]
  },
  {
   "cell_type": "code",
   "execution_count": 20,
   "metadata": {},
   "outputs": [
    {
     "name": "stdout",
     "output_type": "stream",
     "text": [
      "tensor([[0.0000, 0.9068, 0.4188, 0.7223, 0.0413, 0.9702],\n",
      "        [0.9068, 0.0000, 0.6340, 0.3497, 0.9134, 0.0796],\n",
      "        [0.4188, 0.6340, 0.0000, 0.3452, 0.4495, 0.6740],\n",
      "        [0.7223, 0.3497, 0.3452, 0.0000, 0.7432, 0.3628],\n",
      "        [0.0413, 0.9134, 0.4495, 0.7432, 0.0000, 0.9788],\n",
      "        [0.9702, 0.0796, 0.6740, 0.3628, 0.9788, 0.0000]])\n",
      "tensor([0.9068, 0.4188, 0.7223, 0.0413, 0.9702, 0.6340, 0.3497, 0.9134, 0.0796,\n",
      "        0.3452, 0.4495, 0.6740, 0.7432, 0.3628, 0.9788])\n"
     ]
    }
   ],
   "source": [
    "a = generate_random_distance_matrix(6)\n",
    "iu1 = np.triu_indices(6,k=1)\n",
    "print(a)\n",
    "print(a[iu1])\n"
   ]
  },
  {
   "cell_type": "code",
   "execution_count": 21,
   "metadata": {},
   "outputs": [
    {
     "ename": "AttributeError",
     "evalue": "'Tensor' object has no attribute 'copy'",
     "output_type": "error",
     "traceback": [
      "\u001b[0;31m---------------------------------------------------------------------------\u001b[0m",
      "\u001b[0;31mAttributeError\u001b[0m                            Traceback (most recent call last)",
      "\u001b[0;32m<ipython-input-21-87e8268ab709>\u001b[0m in \u001b[0;36m<module>\u001b[0;34m\u001b[0m\n\u001b[1;32m      1\u001b[0m \u001b[0mfirst_node\u001b[0m \u001b[0;34m=\u001b[0m \u001b[0;36m2\u001b[0m\u001b[0;34m\u001b[0m\u001b[0;34m\u001b[0m\u001b[0m\n\u001b[1;32m      2\u001b[0m \u001b[0mprefix\u001b[0m \u001b[0;34m=\u001b[0m \u001b[0;34m[\u001b[0m\u001b[0;36m2\u001b[0m\u001b[0;34m,\u001b[0m\u001b[0;36m3\u001b[0m\u001b[0;34m]\u001b[0m\u001b[0;34m\u001b[0m\u001b[0;34m\u001b[0m\u001b[0m\n\u001b[0;32m----> 3\u001b[0;31m \u001b[0mc\u001b[0m \u001b[0;34m=\u001b[0m \u001b[0ma\u001b[0m\u001b[0;34m.\u001b[0m\u001b[0mcopy\u001b[0m\u001b[0;34m(\u001b[0m\u001b[0;34m)\u001b[0m\u001b[0;34m\u001b[0m\u001b[0;34m\u001b[0m\u001b[0m\n\u001b[0m\u001b[1;32m      4\u001b[0m \u001b[0mc\u001b[0m\u001b[0;34m[\u001b[0m\u001b[0;34m:\u001b[0m\u001b[0;34m,\u001b[0m\u001b[0mprefix\u001b[0m\u001b[0;34m]\u001b[0m \u001b[0;34m=\u001b[0m \u001b[0mnp\u001b[0m\u001b[0;34m.\u001b[0m\u001b[0minf\u001b[0m\u001b[0;34m\u001b[0m\u001b[0;34m\u001b[0m\u001b[0m\n\u001b[1;32m      5\u001b[0m \u001b[0mc\u001b[0m\u001b[0;34m[\u001b[0m\u001b[0mprefix\u001b[0m\u001b[0;34m,\u001b[0m\u001b[0;34m:\u001b[0m\u001b[0;34m]\u001b[0m \u001b[0;34m=\u001b[0m \u001b[0mnp\u001b[0m\u001b[0;34m.\u001b[0m\u001b[0minf\u001b[0m\u001b[0;34m\u001b[0m\u001b[0;34m\u001b[0m\u001b[0m\n",
      "\u001b[0;31mAttributeError\u001b[0m: 'Tensor' object has no attribute 'copy'"
     ]
    }
   ],
   "source": [
    "first_node = 2\n",
    "prefix = [2,3]\n",
    "c = a.copy()\n",
    "c[:,prefix] = np.inf\n",
    "c[prefix,:] = np.inf\n",
    "print(c)\n",
    "a"
   ]
  },
  {
   "cell_type": "code",
   "execution_count": 28,
   "metadata": {},
   "outputs": [
    {
     "ename": "SyntaxError",
     "evalue": "unexpected EOF while parsing (<ipython-input-28-444818608599>, line 29)",
     "output_type": "error",
     "traceback": [
      "\u001b[0;36m  File \u001b[0;32m\"<ipython-input-28-444818608599>\"\u001b[0;36m, line \u001b[0;32m29\u001b[0m\n\u001b[0;31m    \u001b[0m\n\u001b[0m    ^\u001b[0m\n\u001b[0;31mSyntaxError\u001b[0m\u001b[0;31m:\u001b[0m unexpected EOF while parsing\n"
     ]
    }
   ],
   "source": [
    "def greedy_path(distance_matrix, prefix):\n",
    "    M = np.inf\n",
    "    cost = []\n",
    "    path = []\n",
    "    dest = prefix[0]\n",
    "    current = prefix[-1]\n",
    "    dm_copy = distance_matrix.copy()\n",
    "\n",
    "    np.fill_diagonal(dm_copy, M)\n",
    "    dm_copy[:,prefix[:-1]] = M\n",
    "    dm_copy[prefix[:-1],:] = M\n",
    "\n",
    "    while np.any(dm_copy != M):\n",
    "        \n",
    "        greedy = np.argmin(dm_copy[current])\n",
    "        cost.append(dm_copy[current][greedy])\n",
    "        path.append(greedy)\n",
    "        dm_copy[:,current] = M\n",
    "        dm_copy[current, :] = M\n",
    "        current = greedy\n",
    "        \n",
    "    cost.append(distance_matrix[path[-1], dest])    \n",
    "    return np.sum(cost)\n",
    "\n",
    "print(greedy_path(a, [2,3]))\n",
    "\n",
    "def prim(distance_matrix, prefix):\n",
    "    \n",
    "    "
   ]
  },
  {
   "cell_type": "code",
   "execution_count": null,
   "metadata": {},
   "outputs": [],
   "source": [
    "\n",
    "    "
   ]
  },
  {
   "cell_type": "code",
   "execution_count": 47,
   "metadata": {},
   "outputs": [],
   "source": [
    "def mst(X, prefix=[]):\n",
    "    \"\"\"X are edge weights of fully connected graph\"\"\"\n",
    "    \n",
    "    X = X.copy()\n",
    "\n",
    "    if X.shape[0] != X.shape[1]:\n",
    "        raise ValueError(\"X needs to be square matrix of edge weights\")\n",
    "        \n",
    "    #X = np.delete(np.delete(X, prefix[1:], 0), prefix[1:], 1)\n",
    "    n_vertices = X.shape[0]\n",
    "    spanning_edges = []\n",
    "    \n",
    "    # initialize with node 0:                                                                                         \n",
    "    visited_vertices = [0]                                                                                            \n",
    "    num_visited = 1\n",
    "    # exclude self connections:\n",
    "    diag_indices = np.arange(n_vertices)\n",
    "    X[diag_indices, diag_indices] = np.inf\n",
    "    mst_val = 0\n",
    "    while num_visited != n_vertices:\n",
    "        print('***************')\n",
    "        print(X[visited_vertices])\n",
    "        new_edge = np.argmin(X[visited_vertices], axis=None)\n",
    "        # 2d encoding of new_edge from flat, get correct indices\n",
    "        mst_val += X[visited_vertices].reshape(-1)[new_edge]\n",
    "        print(new_edge)\n",
    "        new_edge = divmod(new_edge, n_vertices)\n",
    "        print(new_edge)\n",
    "        new_edge = [visited_vertices[new_edge[0]], new_edge[1]]   \n",
    "        print(new_edge)\n",
    "        # add edge to tree\n",
    "        spanning_edges.append(new_edge)\n",
    "        visited_vertices.append(new_edge[1])\n",
    "        # remove all edges inside current tree\n",
    "        X[visited_vertices, new_edge[1]] = np.inf\n",
    "        X[new_edge[1], visited_vertices] = np.inf                                                                     \n",
    "        num_visited += 1\n",
    "    return mst_val"
   ]
  },
  {
   "cell_type": "code",
   "execution_count": 23,
   "metadata": {},
   "outputs": [
    {
     "name": "stdout",
     "output_type": "stream",
     "text": [
      "[[0.  7.  9.  1.5 6. ]\n",
      " [7.  0.  6.  3.  4. ]\n",
      " [9.  6.  0.  2.  7. ]\n",
      " [1.5 3.  2.  0.  3.5]\n",
      " [6.  4.  7.  3.5 0. ]]\n",
      "***************\n",
      "[[inf 9.  1.5 6. ]]\n",
      "2\n",
      "(0, 2)\n",
      "[0, 2]\n",
      "***************\n",
      "[[inf 9.  inf 6. ]\n",
      " [inf 2.  inf 3.5]]\n",
      "5\n",
      "(1, 1)\n",
      "[2, 1]\n",
      "***************\n",
      "[[inf inf inf 6. ]\n",
      " [inf inf inf 3.5]\n",
      " [inf inf inf 7. ]]\n",
      "7\n",
      "(1, 3)\n",
      "[2, 3]\n"
     ]
    },
    {
     "data": {
      "text/plain": [
       "7.0"
      ]
     },
     "execution_count": 23,
     "metadata": {},
     "output_type": "execute_result"
    }
   ],
   "source": [
    "a = [[0,7,9,1.5, 6],[7,0,6,3,4],[9,6,0,2,7],[1.5,3,2,0,3.5],[6,4,7,3.5,0]]\n",
    "a = torch.tensor(a, dtype=torch.float).numpy()\n",
    "\n",
    "print(a)\n",
    "mst(a, prefix = [2,1])"
   ]
  },
  {
   "cell_type": "code",
   "execution_count": 7,
   "metadata": {},
   "outputs": [
    {
     "ename": "NameError",
     "evalue": "name 'generate_random_distance_matrix' is not defined",
     "output_type": "error",
     "traceback": [
      "\u001b[0;31m---------------------------------------------------------------------------\u001b[0m",
      "\u001b[0;31mNameError\u001b[0m                                 Traceback (most recent call last)",
      "\u001b[0;32m<ipython-input-7-ba7e2aac9699>\u001b[0m in \u001b[0;36m<module>\u001b[0;34m\u001b[0m\n\u001b[1;32m     11\u001b[0m         \u001b[0mself\u001b[0m\u001b[0;34m.\u001b[0m\u001b[0mmst_vertices\u001b[0m \u001b[0;34m=\u001b[0m \u001b[0;34m[\u001b[0m\u001b[0;34m]\u001b[0m\u001b[0;34m\u001b[0m\u001b[0;34m\u001b[0m\u001b[0m\n\u001b[1;32m     12\u001b[0m \u001b[0;34m\u001b[0m\u001b[0m\n\u001b[0;32m---> 13\u001b[0;31m \u001b[0mm\u001b[0m \u001b[0;34m=\u001b[0m \u001b[0mKruskals\u001b[0m\u001b[0;34m(\u001b[0m\u001b[0mgenerate_random_distance_matrix\u001b[0m\u001b[0;34m(\u001b[0m\u001b[0;36m6\u001b[0m\u001b[0;34m)\u001b[0m\u001b[0;34m)\u001b[0m\u001b[0;34m\u001b[0m\u001b[0;34m\u001b[0m\u001b[0m\n\u001b[0m",
      "\u001b[0;31mNameError\u001b[0m: name 'generate_random_distance_matrix' is not defined"
     ]
    }
   ],
   "source": [
    "import heapq\n",
    "\n",
    "\n",
    "class Kruskals:\n",
    "    def __init__(self, distance_matrix):\n",
    "        self.dm = distance_matrix\n",
    "        n = distance_matrix.shape[0]\n",
    "        self.edges_heap = distance_matrix[np.triu_indices(n,k=1)].tolist()\n",
    "        heapq.heapify(self.edges_heap)\n",
    "        self.mst_vertices = []\n",
    "        self.\n",
    "        pass\n",
    "m = Kruskals(generate_random_distance_matrix(6))\n"
   ]
  },
  {
   "cell_type": "code",
   "execution_count": 33,
   "metadata": {},
   "outputs": [
    {
     "ename": "KeyboardInterrupt",
     "evalue": "",
     "output_type": "error",
     "traceback": [
      "\u001b[0;31m---------------------------------------------------------------------------\u001b[0m",
      "\u001b[0;31mKeyboardInterrupt\u001b[0m                         Traceback (most recent call last)",
      "\u001b[0;32m<ipython-input-33-d33dfa8fe158>\u001b[0m in \u001b[0;36m<module>\u001b[0;34m\u001b[0m\n\u001b[1;32m     47\u001b[0m \u001b[0mx\u001b[0m \u001b[0;34m=\u001b[0m \u001b[0mtorch\u001b[0m\u001b[0;34m.\u001b[0m\u001b[0mrand\u001b[0m\u001b[0;34m(\u001b[0m\u001b[0mbatch_size\u001b[0m\u001b[0;34m,\u001b[0m \u001b[0;36m1\u001b[0m\u001b[0;34m,\u001b[0m\u001b[0mnum_cities\u001b[0m\u001b[0;34m,\u001b[0m \u001b[0;36m2\u001b[0m\u001b[0;34m)\u001b[0m\u001b[0;34m\u001b[0m\u001b[0;34m\u001b[0m\u001b[0m\n\u001b[1;32m     48\u001b[0m \u001b[0ms\u001b[0m \u001b[0;34m=\u001b[0m \u001b[0mtime\u001b[0m\u001b[0;34m.\u001b[0m\u001b[0mtime\u001b[0m\u001b[0;34m(\u001b[0m\u001b[0;34m)\u001b[0m\u001b[0;34m\u001b[0m\u001b[0;34m\u001b[0m\u001b[0m\n\u001b[0;32m---> 49\u001b[0;31m \u001b[0mfor_loop_version\u001b[0m\u001b[0;34m(\u001b[0m\u001b[0mx\u001b[0m\u001b[0;34m)\u001b[0m\u001b[0;34m\u001b[0m\u001b[0;34m\u001b[0m\u001b[0m\n\u001b[0m\u001b[1;32m     50\u001b[0m \u001b[0md\u001b[0m \u001b[0;34m=\u001b[0m \u001b[0mtime\u001b[0m\u001b[0;34m.\u001b[0m\u001b[0mtime\u001b[0m\u001b[0;34m(\u001b[0m\u001b[0;34m)\u001b[0m\u001b[0;34m\u001b[0m\u001b[0;34m\u001b[0m\u001b[0m\n\u001b[1;32m     51\u001b[0m \u001b[0mheap_version\u001b[0m\u001b[0;34m(\u001b[0m\u001b[0mx\u001b[0m\u001b[0;34m)\u001b[0m\u001b[0;34m\u001b[0m\u001b[0;34m\u001b[0m\u001b[0m\n",
      "\u001b[0;32m<ipython-input-33-d33dfa8fe158>\u001b[0m in \u001b[0;36mfor_loop_version\u001b[0;34m(batch)\u001b[0m\n\u001b[1;32m     22\u001b[0m         \u001b[0mcopy_queues\u001b[0m \u001b[0;34m=\u001b[0m \u001b[0mcopy\u001b[0m\u001b[0;34m.\u001b[0m\u001b[0mcopy\u001b[0m\u001b[0;34m(\u001b[0m\u001b[0mqueues\u001b[0m\u001b[0;34m)\u001b[0m\u001b[0;34m\u001b[0m\u001b[0;34m\u001b[0m\u001b[0m\n\u001b[1;32m     23\u001b[0m         \u001b[0;32mfor\u001b[0m \u001b[0mq\u001b[0m \u001b[0;32min\u001b[0m \u001b[0mcopy_queues\u001b[0m\u001b[0;34m:\u001b[0m\u001b[0;34m\u001b[0m\u001b[0;34m\u001b[0m\u001b[0m\n\u001b[0;32m---> 24\u001b[0;31m             \u001b[0;32mif\u001b[0m \u001b[0msample\u001b[0m\u001b[0;34m(\u001b[0m\u001b[0;34m*\u001b[0m\u001b[0mq\u001b[0m\u001b[0;34m)\u001b[0m \u001b[0;34m==\u001b[0m \u001b[0;34m'break'\u001b[0m\u001b[0;34m:\u001b[0m\u001b[0;34m\u001b[0m\u001b[0;34m\u001b[0m\u001b[0m\n\u001b[0m\u001b[1;32m     25\u001b[0m                 \u001b[0mqueues\u001b[0m\u001b[0;34m.\u001b[0m\u001b[0mremove\u001b[0m\u001b[0;34m(\u001b[0m\u001b[0mq\u001b[0m\u001b[0;34m)\u001b[0m\u001b[0;34m\u001b[0m\u001b[0;34m\u001b[0m\u001b[0m\n\u001b[1;32m     26\u001b[0m \u001b[0;34m\u001b[0m\u001b[0m\n",
      "\u001b[0;32m<ipython-input-33-d33dfa8fe158>\u001b[0m in \u001b[0;36msample\u001b[0;34m(queue, state, fixed)\u001b[0m\n\u001b[1;32m     15\u001b[0m     \u001b[0mlog_p\u001b[0m\u001b[0;34m,\u001b[0m \u001b[0mstate\u001b[0m \u001b[0;34m=\u001b[0m \u001b[0mdirpg\u001b[0m\u001b[0;34m.\u001b[0m\u001b[0mforward_and_update\u001b[0m\u001b[0;34m(\u001b[0m\u001b[0mbatch_state\u001b[0m\u001b[0;34m,\u001b[0m \u001b[0mfixed\u001b[0m\u001b[0;34m)\u001b[0m\u001b[0;34m\u001b[0m\u001b[0;34m\u001b[0m\u001b[0m\n\u001b[1;32m     16\u001b[0m \u001b[0;34m\u001b[0m\u001b[0m\n\u001b[0;32m---> 17\u001b[0;31m     \u001b[0mqueue\u001b[0m\u001b[0;34m.\u001b[0m\u001b[0mexpand\u001b[0m\u001b[0;34m(\u001b[0m\u001b[0mstate\u001b[0m\u001b[0;34m[\u001b[0m\u001b[0mtorch\u001b[0m\u001b[0;34m.\u001b[0m\u001b[0mtensor\u001b[0m\u001b[0;34m(\u001b[0m\u001b[0;36m0\u001b[0m\u001b[0;34m)\u001b[0m\u001b[0;34m]\u001b[0m\u001b[0;34m,\u001b[0m \u001b[0mlog_p\u001b[0m\u001b[0;34m[\u001b[0m\u001b[0;36m0\u001b[0m\u001b[0;34m]\u001b[0m\u001b[0;34m)\u001b[0m\u001b[0;34m\u001b[0m\u001b[0;34m\u001b[0m\u001b[0m\n\u001b[0m\u001b[1;32m     18\u001b[0m \u001b[0;34m\u001b[0m\u001b[0m\n\u001b[1;32m     19\u001b[0m \u001b[0;32mdef\u001b[0m \u001b[0mfor_loop_version\u001b[0m\u001b[0;34m(\u001b[0m\u001b[0mbatch\u001b[0m\u001b[0;34m)\u001b[0m\u001b[0;34m:\u001b[0m\u001b[0;34m\u001b[0m\u001b[0;34m\u001b[0m\u001b[0m\n",
      "\u001b[0;32m<ipython-input-4-8ee0ede3f0fc>\u001b[0m in \u001b[0;36mexpand\u001b[0;34m(self, state, logprobs)\u001b[0m\n\u001b[1;32m    176\u001b[0m             \u001b[0mcur_coord\u001b[0m\u001b[0;34m=\u001b[0m\u001b[0mcur_coord\u001b[0m\u001b[0;34m,\u001b[0m\u001b[0;34m\u001b[0m\u001b[0;34m\u001b[0m\u001b[0m\n\u001b[1;32m    177\u001b[0m             \u001b[0mdone\u001b[0m\u001b[0;34m=\u001b[0m\u001b[0mlen\u001b[0m\u001b[0;34m(\u001b[0m\u001b[0mnot_visited\u001b[0m\u001b[0;34m)\u001b[0m \u001b[0;34m==\u001b[0m \u001b[0;36m0\u001b[0m\u001b[0;34m,\u001b[0m\u001b[0;34m\u001b[0m\u001b[0;34m\u001b[0m\u001b[0m\n\u001b[0;32m--> 178\u001b[0;31m             \u001b[0mlogprob_so_far\u001b[0m\u001b[0;34m=\u001b[0m\u001b[0mself\u001b[0m\u001b[0;34m.\u001b[0m\u001b[0mcurrent_node\u001b[0m\u001b[0;34m.\u001b[0m\u001b[0mlogprob_so_far\u001b[0m \u001b[0;34m+\u001b[0m \u001b[0mlogprobs\u001b[0m\u001b[0;34m[\u001b[0m\u001b[0mspecial_action\u001b[0m\u001b[0;34m]\u001b[0m\u001b[0;34m,\u001b[0m\u001b[0;34m\u001b[0m\u001b[0;34m\u001b[0m\u001b[0m\n\u001b[0m\u001b[1;32m    179\u001b[0m             \u001b[0mmax_gumbel\u001b[0m\u001b[0;34m=\u001b[0m\u001b[0mself\u001b[0m\u001b[0;34m.\u001b[0m\u001b[0mcurrent_node\u001b[0m\u001b[0;34m.\u001b[0m\u001b[0mmax_gumbel\u001b[0m\u001b[0;34m,\u001b[0m\u001b[0;34m\u001b[0m\u001b[0;34m\u001b[0m\u001b[0m\n\u001b[1;32m    180\u001b[0m             \u001b[0mnext_actions\u001b[0m\u001b[0;34m=\u001b[0m\u001b[0mnot_visited\u001b[0m\u001b[0;34m,\u001b[0m\u001b[0;34m\u001b[0m\u001b[0;34m\u001b[0m\u001b[0m\n",
      "\u001b[0;31mKeyboardInterrupt\u001b[0m: "
     ]
    }
   ],
   "source": [
    "class heap_wrapper:\n",
    "    def __init__(self, instance, i):\n",
    "        \n",
    "        self.instance = instance\n",
    "        self.i = i\n",
    "    def __lt__(self, other):\n",
    "        return self.i < other.i\n",
    "\n",
    "def sample(queue,state,fixed):\n",
    "    parent = queue.pop()\n",
    "    if parent == 'break':\n",
    "        return parent\n",
    "\n",
    "    batch_state = state.stack_state([parent])\n",
    "    log_p, state = dirpg.forward_and_update(batch_state, fixed)\n",
    "\n",
    "    queue.expand(state[torch.tensor(0)], log_p[0])\n",
    "\n",
    "def for_loop_version(batch):\n",
    "    queues = [init_queue(x, dirpg) for x in batch]\n",
    "    while queues:\n",
    "        copy_queues = copy.copy(queues)\n",
    "        for q in copy_queues:\n",
    "            if sample(*q) == 'break':\n",
    "                queues.remove(q)\n",
    "\n",
    "def heap_version(batch):\n",
    "    queues = [heap_wrapper(init_queue(x, dirpg),i) for i,x in enumerate(batch)]\n",
    "    #heapq.heapify(queues)\n",
    "    counter = len(batch)\n",
    "    while queues:\n",
    "        counter += 1 \n",
    "        qw = heapq.heappop(queues)\n",
    "        qw.i = counter\n",
    "        q = qw.instance\n",
    "\n",
    "        if sample(*q) != 'break':\n",
    "            heapq.heappush(queues,qw)\n",
    "        \n",
    "            \n",
    "        \n",
    "    \n",
    "    \n",
    "\n",
    "import copy\n",
    "batch_size = 200\n",
    "x = torch.rand(batch_size, 1,num_cities, 2)\n",
    "s = time.time()\n",
    "for_loop_version(x)\n",
    "d = time.time()\n",
    "heap_version(x)\n",
    "e = time.time()\n",
    "print('loop :', d-s )\n",
    "print('heap :', e-d )\n",
    "#heaps = [[] for _ in range(batch_size)]\n",
    "#heap = []"
   ]
  },
  {
   "cell_type": "code",
   "execution_count": 21,
   "metadata": {},
   "outputs": [
    {
     "data": {
      "text/plain": [
       "4"
      ]
     },
     "execution_count": 21,
     "metadata": {},
     "output_type": "execute_result"
    }
   ],
   "source": [
    "import random\n",
    "random.sample(range(10),1)[0]"
   ]
  },
  {
   "cell_type": "code",
   "execution_count": null,
   "metadata": {},
   "outputs": [],
   "source": [
    "# import heapq\n",
    "\n",
    "q = []  # the queue is a regular list\n",
    "\n",
    "A = (2, 5,6, \"Element A\")  \n",
    "B = (3, 1,2, \"Element B\") \n",
    "\n",
    "heapq.heappush(q, A)  # push the items into the queue\n",
    "heapq.heappush(q, B)\n",
    "\n",
    "print(heapq.heappop(q)[3])"
   ]
  },
  {
   "cell_type": "code",
   "execution_count": 96,
   "metadata": {},
   "outputs": [],
   "source": [
    "\n",
    "def torch_divmod(x,y):\n",
    "    return x//y, x%y\n",
    "def prim_pytorch(distance_matrix, not_visited=None):\n",
    "    \"\"\"Determine the minimum spanning tree for a set of points represented\n",
    "    :  by their inter-point distances... ie their 'W'eights\n",
    "    :Requires:\n",
    "    :--------\n",
    "    :  W - edge weights (distance, time) for a set of points. W needs to be\n",
    "    :      a square array or a np.triu perhaps\n",
    "    :Returns:\n",
    "    :-------\n",
    "    :  pairs - the pair of nodes that form the edges\n",
    "    \"\"\"\n",
    "    if distance_matrix.shape[0] != distance_matrix.shape[1]:\n",
    "        raise ValueError(\"distance_matrix needs to be square matrix of edge weights\")\n",
    "    \"\"\"\n",
    "    dm = torch.index_select(\n",
    "        torch.index_select(distance_matrix, 0, not_visited),\n",
    "        1, not_visited) if len(not_visited) - 2 > 0 else distance_matrix\n",
    "    \"\"\"\n",
    "    dm = distance_matrix.clone()\n",
    "    n_vertices = torch.tensor(dm.shape[0])\n",
    "    visited_vertices = torch.tensor([0])  # Add the first point\n",
    "    num_visited = torch.tensor(1)\n",
    "    # exclude self connections by assigning inf to the diagonal\n",
    "    dm.fill_diagonal_(np.inf)\n",
    "\n",
    "    mst_edges = torch.zeros(n_vertices, n_vertices, dtype=torch.bool, device=dm.device)\n",
    "    while num_visited != n_vertices:\n",
    "        new_edge = torch.argmin(dm[visited_vertices])\n",
    "        print(new_edge, n_vertices)\n",
    "        new_edge = torch_divmod(new_edge, n_vertices)\n",
    "        print(new_edge)\n",
    "        new_edge = [visited_vertices[new_edge[0]], new_edge[1]]\n",
    "\n",
    "        mst_edges[new_edge[0], new_edge[1]] = True\n",
    "        print(visited_vertices,new_edge[1])\n",
    "        visited_vertices = torch.cat([visited_vertices,new_edge[1].unsqueeze(0)], dim=0)\n",
    "        dm[visited_vertices, new_edge[1]] = np.inf\n",
    "        dm[new_edge[1], visited_vertices] = np.inf\n",
    "        num_visited += 1\n",
    "    return (mst_edges*distance_matrix)\n"
   ]
  },
  {
   "cell_type": "code",
   "execution_count": 123,
   "metadata": {},
   "outputs": [
    {
     "data": {
      "text/plain": [
       "12"
      ]
     },
     "execution_count": 123,
     "metadata": {},
     "output_type": "execute_result"
    }
   ],
   "source": [
    "np.sum([[1,2,3],[1,2,3]])"
   ]
  },
  {
   "cell_type": "code",
   "execution_count": 119,
   "metadata": {},
   "outputs": [
    {
     "name": "stdout",
     "output_type": "stream",
     "text": [
      "tensor([[0.0000, 0.3379, 0.2915, 0.5408, 0.3438],\n",
      "        [0.3379, 0.0000, 0.1851, 0.2642, 0.6381],\n",
      "        [0.2915, 0.1851, 0.0000, 0.2593, 0.5070],\n",
      "        [0.5408, 0.2642, 0.2593, 0.0000, 0.7572],\n",
      "        [0.3438, 0.6381, 0.5070, 0.7572, 0.0000]])\n",
      "tensor(2) tensor(5)\n",
      "(tensor(0), tensor(2))\n",
      "tensor([0]) tensor(2)\n",
      "tensor(6) tensor(5)\n",
      "(tensor(1), tensor(1))\n",
      "tensor([0, 2]) tensor(1)\n",
      "tensor(8) tensor(5)\n",
      "(tensor(1), tensor(3))\n",
      "tensor([0, 2, 1]) tensor(3)\n",
      "tensor(4) tensor(5)\n",
      "(tensor(0), tensor(4))\n",
      "tensor([0, 2, 1, 3]) tensor(4)\n",
      "[0.0, 0.1851203739643097, 0.0, 0.259330689907074, 0.0]\n"
     ]
    },
    {
     "data": {
      "text/plain": [
       "0.44445106387138367"
      ]
     },
     "execution_count": 119,
     "metadata": {},
     "output_type": "execute_result"
    }
   ],
   "source": [
    "a = generate_random_distance_matrix(5)\n",
    "\n",
    "print(a)\n",
    "a = prim_pytorch(a).tolist()\n",
    "print(a[2])\n",
    "np.sum(a[2])\n",
    "#mst(a.numpy())\n"
   ]
  },
  {
   "cell_type": "code",
   "execution_count": 7,
   "metadata": {},
   "outputs": [
    {
     "data": {
      "text/plain": [
       "tensor([[0.0000, 0.5745],\n",
       "        [0.5745, 0.0000]])"
      ]
     },
     "execution_count": 7,
     "metadata": {},
     "output_type": "execute_result"
    }
   ],
   "source": [
    "\n",
    "\n",
    "def reduce_distance_matrix(x,nodes, prefix=True):\n",
    "    \"\"\"args: \n",
    "    x: distance metrix NxN\n",
    "    nodes: list of nodes to remove or to keep depending on prefix arg\n",
    "    prefix: if true\"\"\"\n",
    "    \n",
    "    if prefix:\n",
    "        return np.delete(np.delete(x, nodes[1:], 0), nodes[1:], 1)\n",
    "    \n",
    "    else: # not_visited +\n",
    "        ind = torch.tensor(nodes, dtype=torch.long)\n",
    "        return torch.index_select(torch.index_select(x,0,ind),1,ind)\n",
    "        \n",
    "def reduced_mst(prefix, dm, mst_val):\n",
    "    chosen = prefix[-1]\n",
    "    not_visited = [j for j in range(len(dm)) if j not in prefix]\n",
    "    \n",
    "    \n",
    "reduce_distance_matrix(generate_random_distance_matrix(5),[2,3], False)\n"
   ]
  },
  {
   "cell_type": "markdown",
   "metadata": {},
   "source": [
    "## Compare MST to Reduced-MST\n",
    "\n",
    "The root node of the priority queue computes the MST of the complete graph (n cities).\n",
    "When the priority queue is expanded, the next node computes the MST of n-1 cities.\n",
    "\n",
    "Here we compare two alternatives for estimating the MST starting from n to 1:\n",
    "1. exact MST computation \n",
    "2. removing the chosen node and edges from the last MST\n"
   ]
  },
  {
   "cell_type": "code",
   "execution_count": 165,
   "metadata": {},
   "outputs": [
    {
     "name": "stdout",
     "output_type": "stream",
     "text": [
      "\n",
      "tensor([[0.0000, 0.8157, 0.9667, 0.9977, 0.4177],\n",
      "        [0.8157, 0.0000, 0.3689, 0.2372, 0.6335],\n",
      "        [0.9667, 0.3689, 0.0000, 0.5343, 0.6297],\n",
      "        [0.9977, 0.2372, 0.5343, 0.0000, 0.8651],\n",
      "        [0.4177, 0.6335, 0.6297, 0.8651, 0.0000]])\n",
      "\n",
      "tensor([[0.0000, 0.8157, 0.9667, 0.9977],\n",
      "        [0.8157, 0.0000, 0.3689, 0.2372],\n",
      "        [0.9667, 0.3689, 0.0000, 0.5343],\n",
      "        [0.9977, 0.2372, 0.5343, 0.0000]])\n",
      "\n",
      "tensor([[0.0000, 0.8157, 0.9667],\n",
      "        [0.8157, 0.0000, 0.3689],\n",
      "        [0.9667, 0.3689, 0.0000]])\n",
      "\n",
      "tensor([[0.0000, 0.8157],\n",
      "        [0.8157, 0.0000]])\n"
     ]
    }
   ],
   "source": [
    "n = 5\n",
    "mst_vals = [0 for _ in range(n)]\n",
    "rmst_vals = [0 for _ in range(n)]\n",
    "\n",
    "for trial in range(1):\n",
    "    x = generate_random_distance_matrix(n)\n",
    "    mst = _mst(x)\n",
    "    \n",
    "    prefix = []\n",
    "    for chosen in range(n,1,-1):\n",
    "        exact_mst = _mst(x)\n",
    "        rmst = reduced_mst(chosen, rmst)\n",
    "        \n",
    "        prefix.append(chosen)\n",
    "        not_visited = [j for j in range(n) if j not in prefix]\n",
    "        x = reduce_distance_matrix(x,not_visited,False)\n",
    "        print(x)\n",
    "        \n",
    "        \n",
    "    "
   ]
  },
  {
   "cell_type": "code",
   "execution_count": 167,
   "metadata": {},
   "outputs": [
    {
     "data": {
      "text/plain": [
       "tensor([[False, False, False, False, False],\n",
       "        [False, False, False, False, False],\n",
       "        [False, False, False, False, False],\n",
       "        [False, False, False, False, False],\n",
       "        [False, False, False, False, False]])"
      ]
     },
     "execution_count": 167,
     "metadata": {},
     "output_type": "execute_result"
    }
   ],
   "source": [
    "def convert_distance_matrix_to_batched_edges(distance_matrix):\n",
    "    \"\"\"distance_matrix: batch of distance matrices. size: [batch, n, n]\n",
    "    returns weights_and_edges: in shape (batch_size, n * (n - 1) / 2, 3), where\n",
    "    weights_and_edges[.][i] = [weight_i, node1_i, node2_i] for edge i.\"\"\"\n",
    "    \n",
    "    weights_and_edges = torch.\n",
    "    \n",
    "    \n",
    "kruskals_cpp_pytorch()"
   ]
  },
  {
   "cell_type": "code",
   "execution_count": 141,
   "metadata": {},
   "outputs": [
    {
     "name": "stdout",
     "output_type": "stream",
     "text": [
      "0.0010297298431396484\n",
      "0.0021178722381591797\n"
     ]
    }
   ],
   "source": [
    "import random\n",
    "\n",
    "np_time = 0\n",
    "torch_time = 0\n",
    "for i in range(5,20):\n",
    "    prefix = random.sample(range(i), random.sample(range(1,i), 1)[0])\n",
    "    not_visited = [j for j in range(i) if j not in prefix]\n",
    "    a = generate_random_distance_matrix(i)\n",
    "    s = time.time()\n",
    "    reduce_distance_matrix(a,prefix, True)\n",
    "    d = time.time()\n",
    "    reduce_distance_matrix(a,not_visited, False)\n",
    "    torch_time += (time.time() - d)\n",
    "    np_time += (d-s)\n",
    "    \n",
    "print(torch_time)\n",
    "print(np_time)"
   ]
  },
  {
   "cell_type": "markdown",
   "metadata": {},
   "source": [
    "--no_progress_bar --graph_size 20  --not_prune --annealing 0.005 --epsilon 25 --alpha 1.5 --dynamic_weighting --exp_name bs200eps25alpha15ann005 --epoch_size 128000 --n_epochs 100 --batch_size 200\n",
    "\n"
   ]
  },
  {
   "cell_type": "code",
   "execution_count": 127,
   "metadata": {},
   "outputs": [
    {
     "name": "stdout",
     "output_type": "stream",
     "text": [
      "[8, 6, 9, 7, 1]\n"
     ]
    },
    {
     "data": {
      "text/plain": [
       "[0, 2, 3, 4, 5]"
      ]
     },
     "execution_count": 127,
     "metadata": {},
     "output_type": "execute_result"
    }
   ],
   "source": [
    "prefix = random.sample(range(10), random.sample(range(1,10), 1)[0])\n",
    "print(prefix)\n",
    "not_visited = [j for j in range(10) if j not in prefix]\n",
    "not_visited"
   ]
  },
  {
   "cell_type": "code",
   "execution_count": 25,
   "metadata": {},
   "outputs": [
    {
     "data": {
      "text/plain": [
       "0.003189017581211817"
      ]
     },
     "execution_count": 25,
     "metadata": {},
     "output_type": "execute_result"
    }
   ],
   "source": [
    "import random\n"
   ]
  },
  {
   "cell_type": "code",
   "execution_count": 160,
   "metadata": {},
   "outputs": [
    {
     "name": "stdout",
     "output_type": "stream",
     "text": [
      "0.05203104019165039\n",
      "0.2070009708404541\n"
     ]
    }
   ],
   "source": [
    "l = []\n",
    "for i in range(100000):\n",
    "    l.append(torch.tensor(i))\n",
    "s = time.time()\n",
    "a = torch.tensor(l)\n",
    "print(time.time()-s)\n",
    "\n",
    "s = time.time()\n",
    "b = torch.stack(l)\n",
    "print(time.time()-s)\n"
   ]
  },
  {
   "cell_type": "code",
   "execution_count": 1,
   "metadata": {},
   "outputs": [],
   "source": [
    "import torch\n",
    "import kruskals_cpp"
   ]
  },
  {
   "cell_type": "code",
   "execution_count": 4,
   "metadata": {},
   "outputs": [],
   "source": [
    "n = 4\n",
    "weights = np.array([0.7601073, -0.20460297, -0.4689217, -0.5127163, \n",
    "                     -1.9022679, 1.1506207])\n",
    "vertices = np.triu_indices(n=n-1, m=n, k=1)\n",
    "weights_and_edges = np.array(\n",
    "    [list(e) for e in zip(weights, vertices[0], vertices[1])])\n"
   ]
  },
  {
   "cell_type": "code",
   "execution_count": 5,
   "metadata": {},
   "outputs": [
    {
     "data": {
      "text/plain": [
       "array([[ 0.7601073 ,  0.        ,  1.        ],\n",
       "       [-0.20460297,  0.        ,  2.        ],\n",
       "       [-0.4689217 ,  0.        ,  3.        ],\n",
       "       [-0.5127163 ,  1.        ,  2.        ],\n",
       "       [-1.9022679 ,  1.        ,  3.        ],\n",
       "       [ 1.1506207 ,  2.        ,  3.        ]])"
      ]
     },
     "execution_count": 5,
     "metadata": {},
     "output_type": "execute_result"
    }
   ],
   "source": [
    "class A:\n",
    "    one = 1\n",
    "    two = 2\n",
    "    \n",
    "    def __init__(self, x):\n",
    "        self.x = x\n",
    "        \n",
    "\n",
    "class B:\n",
    "    def __init__(self, param):\n",
    "        self.\n",
    "        \n",
    "        "
   ]
  },
  {
   "cell_type": "code",
   "execution_count": null,
   "metadata": {},
   "outputs": [],
   "source": []
  }
 ],
 "metadata": {
  "kernelspec": {
   "display_name": "Python 3",
   "language": "python",
   "name": "python3"
  },
  "language_info": {
   "codemirror_mode": {
    "name": "ipython",
    "version": 3
   },
   "file_extension": ".py",
   "mimetype": "text/x-python",
   "name": "python",
   "nbconvert_exporter": "python",
   "pygments_lexer": "ipython3",
   "version": "3.7.7"
  }
 },
 "nbformat": 4,
 "nbformat_minor": 2
}
